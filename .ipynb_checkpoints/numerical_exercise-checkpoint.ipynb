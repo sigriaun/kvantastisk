{
 "cells": [
  {
   "cell_type": "markdown",
   "metadata": {},
   "source": [
    "# Numerical exercise\n",
    "Kristine Schüller and Sigrid Aunsmo"
   ]
  },
  {
   "cell_type": "code",
   "execution_count": null,
   "metadata": {},
   "outputs": [],
   "source": [
    "h_bar=1\n",
    "m=1\n",
    "k_0=20\n",
    "L=20\n",
    "t_0=0\n"
   ]
  },
  {
   "cell_type": "markdown",
   "metadata": {},
   "source": [
    "## problem 1"
   ]
  },
  {
   "cell_type": "code",
   "execution_count": null,
   "metadata": {},
   "outputs": [],
   "source": [
    "import numpy as np\n",
    "import matplotlib.pyplot as plt \n",
    "\n",
    "\n",
    "sigma_x=1 #??\n",
    "xs=5 #bare satte 5 fordi vi skal ha den verdien etterhvert\n",
    "C=1 #blehh bare satte noe, vi må vel normalisere\n",
    "Nx= 200\n",
    "\n",
    "\n",
    "\n",
    "#finding E and omega based on forumula in text\n",
    "E=(h_bar*k_0)**2/(2*m)\n",
    "omega=E/h_bar\n",
    "\n",
    "\n",
    "#Function to calculate imaginary part of psi\n",
    "def find_psi_im(x,t):\n",
    "    return C*np.exp(-(x-xs)**2/(2*sigma_x**2))*np.sin(k_0*x-omega*t)\n",
    "\n",
    "#function to calculate real part of psi \n",
    "def find_psi_re(x,t):\n",
    "    return C*np.exp(-(x-xs)**2/(2*sigma_x**2))*np.cos(k_0*x-omega*t)\n",
    "\n",
    "\n",
    "#guessing a value for delta_t\n",
    "delta_t=0.1\n",
    "\n",
    "#defining delta_x\n",
    "delta_x= L/(Nx)\n",
    "\n",
    "#making arrays of initial values of psi_r(x,delta_t) and psi_i(x,0)\n",
    "x=np.arange(0,L,delta_x)\n",
    "\n",
    "\n",
    "psi_i=find_psi_im(x,0)\n",
    "psi_r=find_psi_re(x,delta_t)\n",
    "\n",
    "plt.plot(x,psi_i)\n",
    "plt.show()\n",
    "plt.plot(x,psi_r)\n",
    "plt.show()\n"
   ]
  },
  {
   "cell_type": "markdown",
   "metadata": {},
   "source": [
    "## problem 2"
   ]
  },
  {
   "cell_type": "code",
   "execution_count": null,
   "metadata": {},
   "outputs": [],
   "source": []
  },
  {
   "cell_type": "markdown",
   "metadata": {},
   "source": [
    "## problem 3"
   ]
  },
  {
   "cell_type": "code",
   "execution_count": null,
   "metadata": {},
   "outputs": [],
   "source": []
  },
  {
   "cell_type": "markdown",
   "metadata": {},
   "source": [
    "## problem 4"
   ]
  },
  {
   "cell_type": "code",
   "execution_count": null,
   "metadata": {},
   "outputs": [],
   "source": []
  },
  {
   "cell_type": "markdown",
   "metadata": {},
   "source": [
    "## problem 5"
   ]
  },
  {
   "cell_type": "code",
   "execution_count": null,
   "metadata": {},
   "outputs": [],
   "source": []
  },
  {
   "cell_type": "code",
   "execution_count": null,
   "metadata": {},
   "outputs": [],
   "source": []
  }
 ],
 "metadata": {
  "kernelspec": {
   "display_name": "Python 3",
   "language": "python",
   "name": "python3"
  },
  "language_info": {
   "codemirror_mode": {
    "name": "ipython",
    "version": 3
   },
   "file_extension": ".py",
   "mimetype": "text/x-python",
   "name": "python",
   "nbconvert_exporter": "python",
   "pygments_lexer": "ipython3",
   "version": "3.6.4"
  }
 },
 "nbformat": 4,
 "nbformat_minor": 2
}
