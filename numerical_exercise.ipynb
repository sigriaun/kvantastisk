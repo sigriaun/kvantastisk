{
 "cells": [
  {
   "cell_type": "markdown",
   "metadata": {},
   "source": [
    "# Numerical exercise\n",
    "Kristine Schüller and Sigrid Aunsmo"
   ]
  },
  {
   "cell_type": "code",
   "execution_count": null,
   "metadata": {},
   "outputs": [],
   "source": [
    "h_bar=1\n",
    "m=1\n",
    "k_0=20\n",
    "L=20\n",
    "t_0=0\n"
   ]
  },
  {
   "cell_type": "markdown",
   "metadata": {},
   "source": [
    "## problem 1"
   ]
  },
  {
   "cell_type": "code",
   "execution_count": null,
   "metadata": {},
   "outputs": [],
   "source": [
    "import numpy as np\n",
    "import matplotlib.pyplot as plt \n",
    "\n",
    "\n",
    "sigma_x=2 #??\n",
    "xs=5 #bare satte 5 fordi vi skal ha den verdien etterhvert\n",
    "C=1 #blehh bare satte noe, vi må vel normalisere\n",
    "Nx= 1000\n",
    "\n",
    "\n",
    "\n",
    "#finding E and omega based on forumula in text\n",
    "E=(h_bar*k_0)**2/(2*m)\n",
    "omega=E/h_bar\n",
    "\n",
    "\n",
    "#Function to calculate imaginary part of psi\n",
    "def find_psi_im(x,t):\n",
    "    return C*np.exp(-(x-xs)**2/(2*sigma_x**2))*np.sin(k_0*x-omega*t)\n",
    "\n",
    "#function to calculate real part of psi \n",
    "def find_psi_re(x,t):\n",
    "    return C*np.exp(-(x-xs)**2/(2*sigma_x**2))*np.cos(k_0*x-omega*t)\n",
    "\n",
    "\n",
    "#guessing a value for delta_t\n",
    "delta_t=1\n",
    "\n",
    "#defining delta_x\n",
    "delta_x= L/(Nx)\n",
    "\n",
    "#making arrays of initial values of psi_r(x,delta_t) and psi_i(x,0)\n",
    "x=np.arange(0,L,delta_x)\n",
    "\n",
    "\n",
    "psi_i=find_psi_im(x,0)\n",
    "psi_r=find_psi_re(x,delta_t)\n",
    "\n",
    "#normalization\n",
    "psi_i=psi_i/np.linalg.norm(psi_i)\n",
    "psi_r=psi_r/np.linalg.norm(psi_r)\n",
    "\n",
    "#plotting\n",
    "plt.plot(x,psi_i)\n",
    "plt.show()\n",
    "\n",
    "plt.plot(x,psi_r)\n",
    "plt.show()\n",
    "\n",
    "psi_squared=find_psi_im(x,0)**2+find_psi_re(x,0)**2\n",
    "plt.plot(x,psi_squared)\n",
    "plt.show()\n",
    "\n"
   ]
  },
  {
   "cell_type": "code",
   "execution_count": null,
   "metadata": {
    "scrolled": true
   },
   "outputs": [],
   "source": [
    "xlen=Nx\n",
    "tlen=Nx\n",
    "\n",
    "dt=0.0001\n",
    "dx=0.0001\n",
    "\n",
    "def V(x):\n",
    "    return 0\n",
    "\n",
    "def next_psi(xarray,timesteps,psi_r_0,psi_i_0,dt,dx):\n",
    "    psi_i=psi_i_0\n",
    "    psi_r=psi_r_0\n",
    "    for ti in range(timesteps):\n",
    "        #for xi in range(1,len(x)-1):\n",
    "            #diff=dt*((V(x)/h_bar)*psi_r[xi]-(h_bar/(2*m))*(psi_r[xi+1]-2*psi_r[xi]+psi_r[xi-1])/dx**2)\n",
    "            #print(diff)\n",
    "            #print((psi_r[xi+1]-2*psi_r[xi]+psi_r[xi-1]),old_psi_r[xi])\n",
    "            \n",
    "            #psi_i[xi]=old_psi_i[xi]-dt*((V(x)/h_bar)*psi_r[xi]-(h_bar/(2*m))*(psi_r[xi+1]-2*psi_r[xi]+psi_r[xi-1])/dx**2)\n",
    "        #psi_r[xi]=old_psi_r[xi]-dt*((V(x)/h_bar)*psi_i[xi]-(h_bar/(2*m))*(psi_i[xi+1]-2*psi_i[xi]+psi_i[xi-1])/dx**2)\n",
    "    return psi_r,psi_i\n",
    "\n",
    "new_psi_r,new_psi_i=next_psi(x,10,psi_r,psi_i,dt,dx)\n",
    "\n",
    "plt.plot(x,new_psi_r)\n",
    "\n",
    "\"\"\"\n",
    "def find_next_psi(x,t):\n",
    "    #psi_r=find_psi_re(x,t)\n",
    "    for ti in range(t):\n",
    "        for xi in range(len(x)):\n",
    "            psi_i=find_psi_im(x,t-(delta_t/2))-dt*((V(x)/h_bar)*find_psi_re(x,t)-(h_bar/(2*m))*(find_psi_re(x+1,t)-2*find_psi_re(x,t)+find_psi_re(x-1,t))/(dx)**2)\n",
    "            #last_psi_r=psi_r\n",
    "            psi_r=find_psi_re(x,t)+dt*((V(x)/h_bar)*find_psi_im(x,t+1)-(h_bar/(2*m))*(find_psi_im(x+1,t+1)-2*find_psi_im(x,t+1)+find_psi_im(x-1,t+1))/(dx**2))\n",
    "            #print(psi_r-last_psi_r)\n",
    "            \n",
    "    return psi_r,psi_i\n",
    "\n",
    "\n",
    "psi_r,psi_i=find_next_psi(x,100)\n",
    "plt.plot(x,psi_r)\n",
    " \"\"\"\n",
    "\"\"\"\n",
    "Psi_i=np.zeros((xlen,tlen))\n",
    "Psi_i[0]=psi_i\n",
    "\n",
    "Psi_r=np.zeros((xlen,tlen))\n",
    "Psi_r[0]=psi_r\n",
    "\n",
    "#print(Psi_r,Psi_i)\n",
    "dx=0.1\n",
    "dt=0.1\n",
    "def V(x):\n",
    "    return 0\n",
    "\n",
    "\"psi_i og Psi_r er arrays\"\n",
    "def find_psi(Psi_i,Psi_r,xlen,dx,x0,tlen,dt,t0):\n",
    "    for t in range(t0,tlen-1):\n",
    "        #find next Psi_r\n",
    "        for x in range(x0,xlen-1):\n",
    "            Psi_r[x,t+1]=find_next_psi_re(x,t)\n",
    "            Psi_i[x,t+1]=find_next_psi_im(x,t)\n",
    "    return Psi_i,Psi_r\n",
    "\n",
    "Psi_I,Psi_R=find_psi(Psi_i,Psi_r,xlen,0.1,5,tlen,0.1,0)  \n",
    "\n",
    "#print(Psi_I,Psi_R)\n",
    "\"\"\"\n"
   ]
  },
  {
   "cell_type": "markdown",
   "metadata": {},
   "source": [
    "## problem 2"
   ]
  },
  {
   "cell_type": "code",
   "execution_count": null,
   "metadata": {},
   "outputs": [],
   "source": [
    "x_s=5\n",
    "L=2*10\n",
    "x_end=15\n",
    "\n",
    "v_g=(h_bar*k_0)/m\n",
    "\n",
    "T= L/(2*v_g)\n",
    "print(v_g,T)\n",
    "\n",
    "count=0\n",
    "t0=0\n",
    "x0=0\n",
    "\n",
    "for t in range(t0,tlen-1):\n",
    "    count+=1\n",
    "    for X in range(x0,xlen-1):\n",
    "        psi_i=find_next_psi_re(X,t)\n",
    "        psi_r=find_next_psi_im(X,t)\n",
    "    if count%10==0:\n",
    "        print(psi_i)\n",
    "        plt.plot(x,psi_i)\n",
    "        plt.plot(x,psi_r)\n",
    "    \n"
   ]
  },
  {
   "cell_type": "code",
   "execution_count": null,
   "metadata": {},
   "outputs": [],
   "source": [
    "\"\"\"Sigrids tester\"\"\"\n",
    "\n",
    "def newPsi_im(psi_i,psi_r,delta_x,delta_t, V):\n",
    "    #nextPsi_i=np.zeros(len(psi_i)\n",
    "    psi_i[1:-1] = psi_i[1:-1] - delta_t *((V[1:-1]/h_bar*psi_r[1:-1]) - h_bar/(2*m) *(psi_r[2:]-2*psi[1:-1]+psi[:-2])/delta_t**2)\n",
    "    return psi_i\n",
    "                     \n",
    "def newPsi_re(psi_i,psi,delta_x,delta_t, V):\n",
    "    nextPsi_r=np.zeros(len(psi_r))\n",
    "    #psi_r[1:-1] = \n",
    "\n",
    "def propagate_psi_in_time(psi_i,psi_r,delta_x,delta_t,T):\n",
    "    return 0\n",
    "    \n"
   ]
  },
  {
   "cell_type": "markdown",
   "metadata": {},
   "source": [
    "## problem 3"
   ]
  },
  {
   "cell_type": "code",
   "execution_count": null,
   "metadata": {},
   "outputs": [],
   "source": [
    "l=L/50\n",
    "V0=E/2\n",
    "\n",
    "def V(x):\n",
    "    if (L/2-l/2<x)or(L/2+l/2>x):\n",
    "        return E/2\n",
    "    else: \n",
    "        return 0\n",
    "    \n",
    "#funkjsonen skal ta in de siste utregnede psi_r, altså psi_r(T)\n",
    "def find_transmission_possibility(psi_rT,psi_iTNx):\n",
    "    t_prob=np.linalg.norm(psi_rT[Nx/2:])\n",
    "    return t_prob"
   ]
  },
  {
   "cell_type": "markdown",
   "metadata": {},
   "source": [
    "## problem 4"
   ]
  },
  {
   "cell_type": "code",
   "execution_count": null,
   "metadata": {},
   "outputs": [],
   "source": [
    "\n",
    "\n",
    "\"Making a list of 50 different values of V0\"\n",
    "V0_list=np.linspace(0,(3*E)/2,50)\n"
   ]
  },
  {
   "cell_type": "markdown",
   "metadata": {},
   "source": [
    "## problem 5"
   ]
  },
  {
   "cell_type": "code",
   "execution_count": null,
   "metadata": {},
   "outputs": [],
   "source": [
    "\"Making a list of 50 different values of L\"\n",
    "L_list=np.linspace(0,L/20,50)\n"
   ]
  },
  {
   "cell_type": "markdown",
   "metadata": {},
   "source": [
    "## Animasjuun\n"
   ]
  },
  {
   "cell_type": "code",
   "execution_count": null,
   "metadata": {},
   "outputs": [],
   "source": [
    "\n",
    "import numpy as np\n",
    "import matplotlib.pyplot as plt\n",
    "\n",
    "from matplotlib import animation, rc\n",
    "from IPython.display import HTML\n",
    "\n",
    "# First set up the figure, the axis, and the plot element we want to animate\n",
    "fig, ax = plt.subplots()\n",
    "\n",
    "ax.set_xlim(( 0, 2))\n",
    "ax.set_ylim((-2, 2))\n",
    "\n",
    "line, = ax.plot([], [], lw=2)\n",
    "\n",
    "# initialization function: plot the background of each frame\n",
    "def init():\n",
    "    line.set_data([], [])\n",
    "    return (line,)\n",
    "\n",
    "# animation function. This is called sequentially\n",
    "def animate(i):\n",
    "    x = np.linspace(0, 2, 1000)\n",
    "    y = np.sin(2 * np.pi * (x - 0.01 * i))\n",
    "    line.set_data(x, y)\n",
    "    return (line,)\n",
    "\n",
    "# call the animator. blit=True means only re-draw the parts that have changed.\n",
    "anim = animation.FuncAnimation(fig, animate, init_func=init,\n",
    "                               frames=100, interval=20, blit=True)\n",
    "\n",
    "#rc('animation', html='html5')\n",
    "#rc('animation', html='jshtml')\n",
    "HTML(anim.to_html5_video())\n",
    "\n",
    "anim.save('filename.gif', writer='imagemagic')\n",
    "\n",
    "from IPython.display import Image\n",
    "with open('filename.gif','rb') as file:\n",
    "    display(Image(file.read()), format='png')"
   ]
  },
  {
   "cell_type": "code",
   "execution_count": null,
   "metadata": {},
   "outputs": [],
   "source": []
  },
  {
   "cell_type": "code",
   "execution_count": null,
   "metadata": {},
   "outputs": [],
   "source": []
  }
 ],
 "metadata": {
  "kernelspec": {
   "display_name": "Python 3",
   "language": "python",
   "name": "python3"
  },
  "language_info": {
   "codemirror_mode": {
    "name": "ipython",
    "version": 3
   },
   "file_extension": ".py",
   "mimetype": "text/x-python",
   "name": "python",
   "nbconvert_exporter": "python",
   "pygments_lexer": "ipython3",
   "version": "3.6.5"
  }
 },
 "nbformat": 4,
 "nbformat_minor": 2
}
