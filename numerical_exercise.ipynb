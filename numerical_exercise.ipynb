{
 "cells": [
  {
   "cell_type": "markdown",
   "metadata": {},
   "source": [
    "# Numerical exercise\n",
    "Kristine Schüller and Sigrid Aunsmo"
   ]
  },
  {
   "cell_type": "code",
   "execution_count": null,
   "metadata": {},
   "outputs": [],
   "source": [
    "h_bar=1\n",
    "m=1\n",
    "k_0=20\n",
    "L=20\n",
    "t_0=0\n"
   ]
  },
  {
   "cell_type": "markdown",
   "metadata": {},
   "source": [
    "## problem 1"
   ]
  },
  {
   "cell_type": "code",
   "execution_count": null,
   "metadata": {},
   "outputs": [],
   "source": [
    "import numpy as np\n",
    "import matplotlib.pyplot as plt \n",
    "\n",
    "\n",
    "sigma_x=2 #??\n",
    "xs=5 #bare satte 5 fordi vi skal ha den verdien etterhvert\n",
    "C=1 #blehh bare satte noe, vi må vel normalisere\n",
    "Nx= 1000\n",
    "\n",
    "\n",
    "\n",
    "#finding E and omega based on forumula in text\n",
    "E=(h_bar*k_0)**2/(2*m)\n",
    "omega=E/h_bar\n",
    "\n",
    "\n",
    "#Function to calculate imaginary part of psi\n",
    "def find_psi_im(x,t):\n",
    "    return C*np.exp(-(x-xs)**2/(2*sigma_x**2))*np.sin(k_0*x-omega*t)\n",
    "\n",
    "#function to calculate real part of psi \n",
    "def find_psi_re(x,t):\n",
    "    return C*np.exp(-(x-xs)**2/(2*sigma_x**2))*np.cos(k_0*x-omega*t)\n",
    "\n",
    "\n",
    "#guessing a value for delta_t\n",
    "delta_t=1\n",
    "\n",
    "#defining delta_x\n",
    "delta_x= L/(Nx)\n",
    "\n",
    "#making arrays of initial values of psi_r(x,delta_t) and psi_i(x,0)\n",
    "x=np.arange(0,L,delta_x)\n",
    "\n",
    "\n",
    "psi_i=find_psi_im(x,0)\n",
    "psi_r=find_psi_re(x,delta_t)\n",
    "\n",
    "#normalization\n",
    "psi_i=psi_i/np.linalg.norm(psi_i)\n",
    "psi_r=psi_r/np.linalg.norm(psi_r)\n",
    "\n",
    "#plotting\n",
    "plt.plot(x,psi_i)\n",
    "plt.plot(x,psi_r)\n",
    "plt.show()\n",
    "\n",
    "psi_squared=find_psi_im(x,0)**2+find_psi_re(x,0)**2\n",
    "plt.plot(x,psi_squared)\n",
    "plt.show()\n",
    "\n"
   ]
  },
  {
   "cell_type": "code",
   "execution_count": null,
   "metadata": {},
   "outputs": [],
   "source": [
    "xlen=Nx\n",
    "tlen=Nx\n",
    "\n",
    "def find_next_psi_re(x,t):\n",
    "    return find_psi_re(x,t)+dt*((V(x)/h_bar)*find_psi_im(x,t+1)-(h_bar/(2*m))*(find_psi_im(x+1,t+1)-2*find_psi_im(x,t+1)+find_psi_im(x-1,t+1))/(dx**2))\n",
    "\n",
    "def find_next_psi_im(x,t):\n",
    "    return find_psi_im(x,t-1)-dt*((V(x)/h_bar)*find_psi_re(x,t)-(h_bar/(2*m))*(find_psi_re(x+1,t)-2*find_psi_re(x,t)+find_psi_re(x-1,t))/(dx)**2)\n",
    "\n",
    "Psi_i=np.zeros((xlen,tlen))\n",
    "Psi_i[0]=psi_i\n",
    "\n",
    "Psi_r=np.zeros((xlen,tlen))\n",
    "Psi_r[0]=psi_r\n",
    "\n",
    "#print(Psi_r,Psi_i)\n",
    "dx=0.1\n",
    "dt=0.1\n",
    "def V(x):\n",
    "    return 0\n",
    "\n",
    "\"psi_i og Psi_r er arrays\"\n",
    "def find_psi(Psi_i,Psi_r,xlen,dx,x0,tlen,dt,t0):\n",
    "    for t in range(t0,tlen-1):\n",
    "        #find next Psi_r\n",
    "        for x in range(x0,xlen-1):\n",
    "            Psi_r[x,t+1]=find_next_psi_re(x,t)\n",
    "            Psi_i[x,t+1]=find_next_psi_im(x,t)\n",
    "    return Psi_i,Psi_r\n",
    "\n",
    "Psi_I,Psi_R=find_psi(Psi_i,Psi_r,xlen,0.1,5,tlen,0.1,0)  \n",
    "\n",
    "print(Psi_I,Psi_R)\n"
   ]
  },
  {
   "cell_type": "markdown",
   "metadata": {},
   "source": [
    "## problem 2"
   ]
  },
  {
   "cell_type": "code",
   "execution_count": null,
   "metadata": {},
   "outputs": [],
   "source": [
    "x_s=5\n",
    "L=2*10\n",
    "x_end=15\n",
    "\n",
    "v_g=(h_bar*k_0)/m\n",
    "\n",
    "T= L/(2*v_g)\n",
    "print(v_g,T)\n",
    "\n",
    "    "
   ]
  },
  {
   "cell_type": "code",
   "execution_count": null,
   "metadata": {},
   "outputs": [],
   "source": [
    "\"\"\"Sigrids tester\"\"\"\n",
    "\n",
    "def newPsi_im(psi_i,psi_r,delta_x,delta_t, V):\n",
    "    #nextPsi_i=np.zeros(len(psi_i)\n",
    "    psi_i[1:-1] = psi_i[1:-1] - delta_t *((V[1:-1]/h_bar*psi_r[1:-1]) - h_bar/(2*m) *(psi_r[2:]-2*psi[1:-1]+psi[:-2])/delta_t**2)\n",
    "    return psi_i\n",
    "                     \n",
    "def newPsi_re(psi_i,psi,delta_x,delta_t, V):\n",
    "    nextPsi_r=np.zeros(len(psi_r))\n",
    "    psi_r[1:-1] = \n",
    "\n",
    "def propagate_psi_in_time(psi_i,psi_r,delta_x,delta_t,T):\n",
    "    return 0\n",
    "    \n"
   ]
  },
  {
   "cell_type": "markdown",
   "metadata": {},
   "source": [
    "## problem 3"
   ]
  },
  {
   "cell_type": "code",
   "execution_count": null,
   "metadata": {},
   "outputs": [],
   "source": [
    "l=L/50\n",
    "V0=E/2\n",
    "\n",
    "def V(x):\n",
    "    if (L/2-l/2<x)or(L/2+l/2>x):\n",
    "        return E/2\n",
    "    else: \n",
    "        return 0\n",
    "    \n",
    "#funkjsonen skal ta in de siste utregnede psi_r, altså psi_r(T)\n",
    "def find_transmission_possibility(psi_rT,psi_iTNx):\n",
    "    t_prob=np.linalg.norm(psi_rT[Nx/2:])\n",
    "    return t_prob"
   ]
  },
  {
   "cell_type": "markdown",
   "metadata": {},
   "source": [
    "## problem 4"
   ]
  },
  {
   "cell_type": "code",
   "execution_count": null,
   "metadata": {},
   "outputs": [],
   "source": [
    "\n",
    "\n",
    "\"Making a list of 50 different values of V0\"\n",
    "V0_list=np.linspace(0,(3*E)/2,50)\n"
   ]
  },
  {
   "cell_type": "code",
   "execution_count": null,
   "metadata": {},
   "outputs": [],
   "source": []
  },
  {
   "cell_type": "markdown",
   "metadata": {},
   "source": [
    "## problem 5"
   ]
  },
  {
   "cell_type": "code",
   "execution_count": null,
   "metadata": {},
   "outputs": [],
   "source": [
    "\"Making a list of 50 different values of L\"\n",
    "L_list=np.linspace(0,L/20,50)\n"
   ]
  }
 ],
 "metadata": {
  "kernelspec": {
   "display_name": "Python 3",
   "language": "python",
   "name": "python3"
  },
  "language_info": {
   "codemirror_mode": {
    "name": "ipython",
    "version": 3
   },
   "file_extension": ".py",
   "mimetype": "text/x-python",
   "name": "python",
   "nbconvert_exporter": "python",
   "pygments_lexer": "ipython3",
   "version": "3.6.4"
  }
 },
 "nbformat": 4,
 "nbformat_minor": 2
}
